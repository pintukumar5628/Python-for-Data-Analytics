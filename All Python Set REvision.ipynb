{
 "cells": [
  {
   "cell_type": "markdown",
   "id": "eb64d210",
   "metadata": {},
   "source": [
    "Python revision basic to advance"
   ]
  },
  {
   "cell_type": "code",
   "execution_count": 1,
   "id": "f6d80d41",
   "metadata": {},
   "outputs": [
    {
     "data": {
      "text/plain": [
       "3"
      ]
     },
     "execution_count": 1,
     "metadata": {},
     "output_type": "execute_result"
    }
   ],
   "source": [
    "1+2"
   ]
  },
  {
   "cell_type": "code",
   "execution_count": 2,
   "id": "277c94f7",
   "metadata": {},
   "outputs": [],
   "source": [
    "a=23"
   ]
  },
  {
   "cell_type": "code",
   "execution_count": 3,
   "id": "ae091b2f",
   "metadata": {},
   "outputs": [
    {
     "data": {
      "text/plain": [
       "int"
      ]
     },
     "execution_count": 3,
     "metadata": {},
     "output_type": "execute_result"
    }
   ],
   "source": [
    "type(a)"
   ]
  },
  {
   "cell_type": "code",
   "execution_count": 4,
   "id": "34fd7aa5",
   "metadata": {},
   "outputs": [],
   "source": [
    "b= 23.3"
   ]
  },
  {
   "cell_type": "code",
   "execution_count": 5,
   "id": "239b5707",
   "metadata": {},
   "outputs": [
    {
     "data": {
      "text/plain": [
       "float"
      ]
     },
     "execution_count": 5,
     "metadata": {},
     "output_type": "execute_result"
    }
   ],
   "source": [
    "type(b)"
   ]
  },
  {
   "cell_type": "code",
   "execution_count": 6,
   "id": "2fab378c",
   "metadata": {},
   "outputs": [],
   "source": [
    "a=\"Anshu\""
   ]
  },
  {
   "cell_type": "code",
   "execution_count": 7,
   "id": "039fd222",
   "metadata": {},
   "outputs": [
    {
     "data": {
      "text/plain": [
       "str"
      ]
     },
     "execution_count": 7,
     "metadata": {},
     "output_type": "execute_result"
    }
   ],
   "source": [
    "type(a)"
   ]
  },
  {
   "cell_type": "code",
   "execution_count": 8,
   "id": "bf5108a1",
   "metadata": {},
   "outputs": [],
   "source": [
    "a= True"
   ]
  },
  {
   "cell_type": "code",
   "execution_count": 9,
   "id": "262cdc97",
   "metadata": {},
   "outputs": [
    {
     "data": {
      "text/plain": [
       "bool"
      ]
     },
     "execution_count": 9,
     "metadata": {},
     "output_type": "execute_result"
    }
   ],
   "source": [
    "type(a)"
   ]
  },
  {
   "cell_type": "code",
   "execution_count": 10,
   "id": "aa53f112",
   "metadata": {},
   "outputs": [],
   "source": [
    "B=(1,2,3,4,5,6,7,8)"
   ]
  },
  {
   "cell_type": "code",
   "execution_count": 11,
   "id": "f1456c38",
   "metadata": {},
   "outputs": [
    {
     "data": {
      "text/plain": [
       "tuple"
      ]
     },
     "execution_count": 11,
     "metadata": {},
     "output_type": "execute_result"
    }
   ],
   "source": [
    "type(B)"
   ]
  },
  {
   "cell_type": "code",
   "execution_count": 12,
   "id": "f794141e",
   "metadata": {},
   "outputs": [],
   "source": [
    "B=[1,2,3,4,5,6,7,8]"
   ]
  },
  {
   "cell_type": "code",
   "execution_count": 13,
   "id": "f0ffa1ca",
   "metadata": {},
   "outputs": [
    {
     "data": {
      "text/plain": [
       "list"
      ]
     },
     "execution_count": 13,
     "metadata": {},
     "output_type": "execute_result"
    }
   ],
   "source": [
    "type(B)"
   ]
  },
  {
   "cell_type": "code",
   "execution_count": 14,
   "id": "284c7c02",
   "metadata": {},
   "outputs": [],
   "source": [
    "B={1,2,3,4,5,6,7,8}"
   ]
  },
  {
   "cell_type": "code",
   "execution_count": 15,
   "id": "86cb989c",
   "metadata": {},
   "outputs": [
    {
     "data": {
      "text/plain": [
       "set"
      ]
     },
     "execution_count": 15,
     "metadata": {},
     "output_type": "execute_result"
    }
   ],
   "source": [
    "type(B)"
   ]
  },
  {
   "cell_type": "code",
   "execution_count": 16,
   "id": "7a3e7ab1",
   "metadata": {},
   "outputs": [],
   "source": [
    "B= 2+5j"
   ]
  },
  {
   "cell_type": "code",
   "execution_count": 17,
   "id": "81a13cb7",
   "metadata": {},
   "outputs": [
    {
     "data": {
      "text/plain": [
       "complex"
      ]
     },
     "execution_count": 17,
     "metadata": {},
     "output_type": "execute_result"
    }
   ],
   "source": [
    "type(B)"
   ]
  },
  {
   "cell_type": "code",
   "execution_count": 18,
   "id": "533aa316",
   "metadata": {},
   "outputs": [
    {
     "data": {
      "text/plain": [
       "2.0"
      ]
     },
     "execution_count": 18,
     "metadata": {},
     "output_type": "execute_result"
    }
   ],
   "source": [
    "B.real"
   ]
  },
  {
   "cell_type": "code",
   "execution_count": 19,
   "id": "a70942c6",
   "metadata": {},
   "outputs": [
    {
     "data": {
      "text/plain": [
       "5.0"
      ]
     },
     "execution_count": 19,
     "metadata": {},
     "output_type": "execute_result"
    }
   ],
   "source": [
    "B.imag"
   ]
  },
  {
   "cell_type": "code",
   "execution_count": 20,
   "id": "11aa2458",
   "metadata": {},
   "outputs": [],
   "source": [
    "p=\"pintukumarsah\""
   ]
  },
  {
   "cell_type": "code",
   "execution_count": 21,
   "id": "4c12c31b",
   "metadata": {},
   "outputs": [
    {
     "data": {
      "text/plain": [
       "str"
      ]
     },
     "execution_count": 21,
     "metadata": {},
     "output_type": "execute_result"
    }
   ],
   "source": [
    "type(p)"
   ]
  },
  {
   "cell_type": "code",
   "execution_count": 22,
   "id": "463145af",
   "metadata": {},
   "outputs": [
    {
     "name": "stdout",
     "output_type": "stream",
     "text": [
      "t\n"
     ]
    }
   ],
   "source": [
    "print(p[3])"
   ]
  },
  {
   "cell_type": "code",
   "execution_count": 23,
   "id": "1c403d30",
   "metadata": {},
   "outputs": [
    {
     "name": "stdout",
     "output_type": "stream",
     "text": [
      "pintu\n"
     ]
    }
   ],
   "source": [
    "print(p[0:5])"
   ]
  },
  {
   "cell_type": "code",
   "execution_count": 24,
   "id": "d223125b",
   "metadata": {},
   "outputs": [
    {
     "name": "stdout",
     "output_type": "stream",
     "text": [
      "r\n"
     ]
    }
   ],
   "source": [
    "print(p[-4])"
   ]
  },
  {
   "cell_type": "code",
   "execution_count": 25,
   "id": "a3bfc137",
   "metadata": {},
   "outputs": [
    {
     "data": {
      "text/plain": [
       "'u'"
      ]
     },
     "execution_count": 25,
     "metadata": {},
     "output_type": "execute_result"
    }
   ],
   "source": [
    "p[-7]"
   ]
  },
  {
   "cell_type": "code",
   "execution_count": 26,
   "id": "47fa45de",
   "metadata": {},
   "outputs": [
    {
     "data": {
      "text/plain": [
       "'pintukumar'"
      ]
     },
     "execution_count": 26,
     "metadata": {},
     "output_type": "execute_result"
    }
   ],
   "source": [
    "p[0:10]"
   ]
  },
  {
   "cell_type": "code",
   "execution_count": 27,
   "id": "7191e553",
   "metadata": {},
   "outputs": [
    {
     "data": {
      "text/plain": [
       "'pnuu'"
      ]
     },
     "execution_count": 27,
     "metadata": {},
     "output_type": "execute_result"
    }
   ],
   "source": [
    "p[0:8:2]"
   ]
  },
  {
   "cell_type": "code",
   "execution_count": 28,
   "id": "b3d44479",
   "metadata": {},
   "outputs": [
    {
     "data": {
      "text/plain": [
       "'pintukumarsah'"
      ]
     },
     "execution_count": 28,
     "metadata": {},
     "output_type": "execute_result"
    }
   ],
   "source": [
    "p[::]"
   ]
  },
  {
   "cell_type": "code",
   "execution_count": 29,
   "id": "f2c2b258",
   "metadata": {},
   "outputs": [
    {
     "data": {
      "text/plain": [
       "'pnuuash'"
      ]
     },
     "execution_count": 29,
     "metadata": {},
     "output_type": "execute_result"
    }
   ],
   "source": [
    "p[::2]"
   ]
  },
  {
   "cell_type": "code",
   "execution_count": 30,
   "id": "7543ee16",
   "metadata": {},
   "outputs": [
    {
     "data": {
      "text/plain": [
       "'arm'"
      ]
     },
     "execution_count": 30,
     "metadata": {},
     "output_type": "execute_result"
    }
   ],
   "source": [
    "p[-2:-8:-2]"
   ]
  },
  {
   "cell_type": "code",
   "execution_count": 31,
   "id": "f413d8b2",
   "metadata": {},
   "outputs": [],
   "source": [
    "s= \"i am pintu kumar sah from gopalganj\""
   ]
  },
  {
   "cell_type": "code",
   "execution_count": 32,
   "id": "a6830f67",
   "metadata": {},
   "outputs": [
    {
     "data": {
      "text/plain": [
       "35"
      ]
     },
     "execution_count": 32,
     "metadata": {},
     "output_type": "execute_result"
    }
   ],
   "source": [
    "len(s)"
   ]
  },
  {
   "cell_type": "code",
   "execution_count": 33,
   "id": "0f855e08",
   "metadata": {},
   "outputs": [
    {
     "data": {
      "text/plain": [
       "'pintu'"
      ]
     },
     "execution_count": 33,
     "metadata": {},
     "output_type": "execute_result"
    }
   ],
   "source": [
    "s[5:10]"
   ]
  },
  {
   "cell_type": "code",
   "execution_count": 34,
   "id": "277f9100",
   "metadata": {},
   "outputs": [
    {
     "data": {
      "text/plain": [
       "5"
      ]
     },
     "execution_count": 34,
     "metadata": {},
     "output_type": "execute_result"
    }
   ],
   "source": [
    "s.find(\"pintu\")"
   ]
  },
  {
   "cell_type": "code",
   "execution_count": 35,
   "id": "a00b03ad",
   "metadata": {},
   "outputs": [
    {
     "data": {
      "text/plain": [
       "-1"
      ]
     },
     "execution_count": 35,
     "metadata": {},
     "output_type": "execute_result"
    }
   ],
   "source": [
    "s.find(p)"
   ]
  },
  {
   "cell_type": "code",
   "execution_count": 36,
   "id": "da31bd90",
   "metadata": {},
   "outputs": [
    {
     "data": {
      "text/plain": [
       "2"
      ]
     },
     "execution_count": 36,
     "metadata": {},
     "output_type": "execute_result"
    }
   ],
   "source": [
    "s.find(\"am\")"
   ]
  },
  {
   "cell_type": "code",
   "execution_count": 37,
   "id": "7039b8fe",
   "metadata": {},
   "outputs": [
    {
     "data": {
      "text/plain": [
       "26"
      ]
     },
     "execution_count": 37,
     "metadata": {},
     "output_type": "execute_result"
    }
   ],
   "source": [
    "s.find('g')"
   ]
  },
  {
   "cell_type": "code",
   "execution_count": 38,
   "id": "58c356b3",
   "metadata": {},
   "outputs": [
    {
     "data": {
      "text/plain": [
       "1"
      ]
     },
     "execution_count": 38,
     "metadata": {},
     "output_type": "execute_result"
    }
   ],
   "source": [
    "s.count(s)"
   ]
  },
  {
   "cell_type": "code",
   "execution_count": 39,
   "id": "21571e5a",
   "metadata": {},
   "outputs": [
    {
     "data": {
      "text/plain": [
       "5"
      ]
     },
     "execution_count": 39,
     "metadata": {},
     "output_type": "execute_result"
    }
   ],
   "source": [
    "s.count('a')"
   ]
  },
  {
   "cell_type": "code",
   "execution_count": 40,
   "id": "75bf954d",
   "metadata": {},
   "outputs": [
    {
     "data": {
      "text/plain": [
       "'i am pintu kumar sah from gopalganj'"
      ]
     },
     "execution_count": 40,
     "metadata": {},
     "output_type": "execute_result"
    }
   ],
   "source": [
    "s"
   ]
  },
  {
   "cell_type": "code",
   "execution_count": 41,
   "id": "38b35c27",
   "metadata": {},
   "outputs": [
    {
     "data": {
      "text/plain": [
       "'I AM PINTU KUMAR SAH FROM GOPALGANJ'"
      ]
     },
     "execution_count": 41,
     "metadata": {},
     "output_type": "execute_result"
    }
   ],
   "source": [
    "s.upper()"
   ]
  },
  {
   "cell_type": "code",
   "execution_count": 42,
   "id": "e35acf4c",
   "metadata": {},
   "outputs": [
    {
     "data": {
      "text/plain": [
       "'i am pintu kumar sah from gopalganj'"
      ]
     },
     "execution_count": 42,
     "metadata": {},
     "output_type": "execute_result"
    }
   ],
   "source": [
    "s.lower()"
   ]
  },
  {
   "cell_type": "code",
   "execution_count": 43,
   "id": "e6f2125e",
   "metadata": {},
   "outputs": [
    {
     "data": {
      "text/plain": [
       "'I Am Pintu Kumar Sah From Gopalganj'"
      ]
     },
     "execution_count": 43,
     "metadata": {},
     "output_type": "execute_result"
    }
   ],
   "source": [
    "s.title()"
   ]
  },
  {
   "cell_type": "code",
   "execution_count": 44,
   "id": "78e3720f",
   "metadata": {},
   "outputs": [
    {
     "data": {
      "text/plain": [
       "'I am pintu kumar sah from gopalganj'"
      ]
     },
     "execution_count": 44,
     "metadata": {},
     "output_type": "execute_result"
    }
   ],
   "source": [
    "s.capitalize()"
   ]
  },
  {
   "cell_type": "code",
   "execution_count": 45,
   "id": "4a0c28bf",
   "metadata": {},
   "outputs": [
    {
     "data": {
      "text/plain": [
       "'i am pintu kumar sah from gopalganjBihar'"
      ]
     },
     "execution_count": 45,
     "metadata": {},
     "output_type": "execute_result"
    }
   ],
   "source": [
    "s + \"Bihar\""
   ]
  },
  {
   "cell_type": "code",
   "execution_count": 46,
   "id": "8c51791d",
   "metadata": {},
   "outputs": [
    {
     "data": {
      "text/plain": [
       "'i am pintu kumar sah from gopalganji am pintu kumar sah from gopalganji am pintu kumar sah from gopalganj'"
      ]
     },
     "execution_count": 46,
     "metadata": {},
     "output_type": "execute_result"
    }
   ],
   "source": [
    "s* 3"
   ]
  },
  {
   "cell_type": "code",
   "execution_count": 47,
   "id": "465b2b00",
   "metadata": {},
   "outputs": [
    {
     "data": {
      "text/plain": [
       "'i am pintu kumar sah from gopalganj1'"
      ]
     },
     "execution_count": 47,
     "metadata": {},
     "output_type": "execute_result"
    }
   ],
   "source": [
    "s+str(1)"
   ]
  },
  {
   "cell_type": "code",
   "execution_count": 48,
   "id": "6b50a734",
   "metadata": {},
   "outputs": [],
   "source": [
    "l = [12,23,23.5,36,5,\"pintu\",True,3+5j]"
   ]
  },
  {
   "cell_type": "code",
   "execution_count": 49,
   "id": "54f417f1",
   "metadata": {},
   "outputs": [
    {
     "data": {
      "text/plain": [
       "list"
      ]
     },
     "execution_count": 49,
     "metadata": {},
     "output_type": "execute_result"
    }
   ],
   "source": [
    "type(l)"
   ]
  },
  {
   "cell_type": "code",
   "execution_count": 50,
   "id": "2066881e",
   "metadata": {},
   "outputs": [
    {
     "data": {
      "text/plain": [
       "36"
      ]
     },
     "execution_count": 50,
     "metadata": {},
     "output_type": "execute_result"
    }
   ],
   "source": [
    "l[3]"
   ]
  },
  {
   "cell_type": "code",
   "execution_count": 51,
   "id": "b6fe2098",
   "metadata": {},
   "outputs": [
    {
     "data": {
      "text/plain": [
       "'pintu'"
      ]
     },
     "execution_count": 51,
     "metadata": {},
     "output_type": "execute_result"
    }
   ],
   "source": [
    "l[5]"
   ]
  },
  {
   "cell_type": "code",
   "execution_count": 52,
   "id": "9f5d4c6a",
   "metadata": {},
   "outputs": [
    {
     "data": {
      "text/plain": [
       "(3+5j)"
      ]
     },
     "execution_count": 52,
     "metadata": {},
     "output_type": "execute_result"
    }
   ],
   "source": [
    "l[7]"
   ]
  },
  {
   "cell_type": "code",
   "execution_count": 53,
   "id": "8e63d9fd",
   "metadata": {},
   "outputs": [
    {
     "name": "stdout",
     "output_type": "stream",
     "text": [
      "23\n"
     ]
    }
   ],
   "source": [
    "print(l[-7])"
   ]
  },
  {
   "cell_type": "code",
   "execution_count": 54,
   "id": "0ee8ba06",
   "metadata": {},
   "outputs": [],
   "source": [
    "s =\"pwskills\""
   ]
  },
  {
   "cell_type": "code",
   "execution_count": 55,
   "id": "070a1e0c",
   "metadata": {},
   "outputs": [
    {
     "data": {
      "text/plain": [
       "['p', 'w', 's', 'k', 'i', 'l', 'l', 's']"
      ]
     },
     "execution_count": 55,
     "metadata": {},
     "output_type": "execute_result"
    }
   ],
   "source": [
    "list(s)"
   ]
  },
  {
   "cell_type": "code",
   "execution_count": 56,
   "id": "7caad777",
   "metadata": {},
   "outputs": [
    {
     "data": {
      "text/plain": [
       "list[[12, 23, 23.5, 36, 5, 'pintu', True, (3+5j)]]"
      ]
     },
     "execution_count": 56,
     "metadata": {},
     "output_type": "execute_result"
    }
   ],
   "source": [
    "list[l]"
   ]
  },
  {
   "cell_type": "code",
   "execution_count": 57,
   "id": "d6abbeda",
   "metadata": {},
   "outputs": [
    {
     "data": {
      "text/plain": [
       "['p',\n",
       " 'w',\n",
       " 's',\n",
       " 'k',\n",
       " 'i',\n",
       " 'l',\n",
       " 'l',\n",
       " 's',\n",
       " 12,\n",
       " 23,\n",
       " 23.5,\n",
       " 36,\n",
       " 5,\n",
       " 'pintu',\n",
       " True,\n",
       " (3+5j)]"
      ]
     },
     "execution_count": 57,
     "metadata": {},
     "output_type": "execute_result"
    }
   ],
   "source": [
    "list(s)+l"
   ]
  },
  {
   "cell_type": "code",
   "execution_count": 58,
   "id": "badc50f2",
   "metadata": {},
   "outputs": [
    {
     "data": {
      "text/plain": [
       "list[[12, 23, 23.5, 36, 5, 'pintu', True, (3+5j)]]"
      ]
     },
     "execution_count": 58,
     "metadata": {},
     "output_type": "execute_result"
    }
   ],
   "source": [
    "list[l]"
   ]
  },
  {
   "cell_type": "code",
   "execution_count": 59,
   "id": "55de5ba4",
   "metadata": {},
   "outputs": [
    {
     "data": {
      "text/plain": [
       "'pintu'"
      ]
     },
     "execution_count": 59,
     "metadata": {},
     "output_type": "execute_result"
    }
   ],
   "source": [
    "l[5] [0:5]"
   ]
  },
  {
   "cell_type": "code",
   "execution_count": 60,
   "id": "717248fc",
   "metadata": {},
   "outputs": [
    {
     "data": {
      "text/plain": [
       "[12, 23, 23.5, 36, 5, 'pintu', True, (3+5j)]"
      ]
     },
     "execution_count": 60,
     "metadata": {},
     "output_type": "execute_result"
    }
   ],
   "source": [
    "l"
   ]
  },
  {
   "cell_type": "code",
   "execution_count": 61,
   "id": "f34ce09c",
   "metadata": {},
   "outputs": [],
   "source": [
    "l.append(\"pintu\")"
   ]
  },
  {
   "cell_type": "code",
   "execution_count": 62,
   "id": "6ce8034f",
   "metadata": {},
   "outputs": [
    {
     "data": {
      "text/plain": [
       "[12, 23, 23.5, 36, 5, 'pintu', True, (3+5j), 'pintu']"
      ]
     },
     "execution_count": 62,
     "metadata": {},
     "output_type": "execute_result"
    }
   ],
   "source": [
    "l"
   ]
  },
  {
   "cell_type": "code",
   "execution_count": 63,
   "id": "e014f60f",
   "metadata": {},
   "outputs": [
    {
     "data": {
      "text/plain": [
       "9"
      ]
     },
     "execution_count": 63,
     "metadata": {},
     "output_type": "execute_result"
    }
   ],
   "source": [
    "len(l)"
   ]
  },
  {
   "cell_type": "code",
   "execution_count": 64,
   "id": "98241cc1",
   "metadata": {},
   "outputs": [],
   "source": [
    "p = \"pintugupta\""
   ]
  },
  {
   "cell_type": "code",
   "execution_count": 65,
   "id": "bbb06f27",
   "metadata": {},
   "outputs": [],
   "source": [
    "l.append(p)"
   ]
  },
  {
   "cell_type": "code",
   "execution_count": 66,
   "id": "20362737",
   "metadata": {},
   "outputs": [
    {
     "data": {
      "text/plain": [
       "[12, 23, 23.5, 36, 5, 'pintu', True, (3+5j), 'pintu', 'pintugupta']"
      ]
     },
     "execution_count": 66,
     "metadata": {},
     "output_type": "execute_result"
    }
   ],
   "source": [
    "l"
   ]
  },
  {
   "cell_type": "code",
   "execution_count": 67,
   "id": "878cfb1b",
   "metadata": {},
   "outputs": [],
   "source": [
    "l.extend('Alok')"
   ]
  },
  {
   "cell_type": "code",
   "execution_count": 68,
   "id": "1c895f02",
   "metadata": {},
   "outputs": [
    {
     "data": {
      "text/plain": [
       "[12,\n",
       " 23,\n",
       " 23.5,\n",
       " 36,\n",
       " 5,\n",
       " 'pintu',\n",
       " True,\n",
       " (3+5j),\n",
       " 'pintu',\n",
       " 'pintugupta',\n",
       " 'A',\n",
       " 'l',\n",
       " 'o',\n",
       " 'k']"
      ]
     },
     "execution_count": 68,
     "metadata": {},
     "output_type": "execute_result"
    }
   ],
   "source": [
    "l"
   ]
  },
  {
   "cell_type": "code",
   "execution_count": 69,
   "id": "4dee17cc",
   "metadata": {},
   "outputs": [],
   "source": [
    "l.insert(2,\"Jyotish\")"
   ]
  },
  {
   "cell_type": "code",
   "execution_count": 70,
   "id": "61a3077f",
   "metadata": {},
   "outputs": [
    {
     "data": {
      "text/plain": [
       "[12,\n",
       " 23,\n",
       " 'Jyotish',\n",
       " 23.5,\n",
       " 36,\n",
       " 5,\n",
       " 'pintu',\n",
       " True,\n",
       " (3+5j),\n",
       " 'pintu',\n",
       " 'pintugupta',\n",
       " 'A',\n",
       " 'l',\n",
       " 'o',\n",
       " 'k']"
      ]
     },
     "execution_count": 70,
     "metadata": {},
     "output_type": "execute_result"
    }
   ],
   "source": [
    "l"
   ]
  },
  {
   "cell_type": "code",
   "execution_count": 71,
   "id": "f8bdfa0d",
   "metadata": {},
   "outputs": [],
   "source": [
    "l1= [1,2,3,4,5,\"pintu\",3+5j,True]"
   ]
  },
  {
   "cell_type": "code",
   "execution_count": 72,
   "id": "87cc2052",
   "metadata": {},
   "outputs": [
    {
     "data": {
      "text/plain": [
       "'pintu'"
      ]
     },
     "execution_count": 72,
     "metadata": {},
     "output_type": "execute_result"
    }
   ],
   "source": [
    "l1.pop(5)"
   ]
  },
  {
   "cell_type": "code",
   "execution_count": 73,
   "id": "60b3c018",
   "metadata": {},
   "outputs": [
    {
     "data": {
      "text/plain": [
       "True"
      ]
     },
     "execution_count": 73,
     "metadata": {},
     "output_type": "execute_result"
    }
   ],
   "source": [
    "l1.pop()"
   ]
  },
  {
   "cell_type": "code",
   "execution_count": 74,
   "id": "cea1fd79",
   "metadata": {},
   "outputs": [
    {
     "data": {
      "text/plain": [
       "[1, 2, 3, 4, 5, (3+5j)]"
      ]
     },
     "execution_count": 74,
     "metadata": {},
     "output_type": "execute_result"
    }
   ],
   "source": [
    "l1"
   ]
  },
  {
   "cell_type": "code",
   "execution_count": 75,
   "id": "dd6bd81b",
   "metadata": {},
   "outputs": [],
   "source": [
    "l1.remove(3)"
   ]
  },
  {
   "cell_type": "code",
   "execution_count": 76,
   "id": "5b81698d",
   "metadata": {},
   "outputs": [
    {
     "data": {
      "text/plain": [
       "[1, 2, 4, 5, (3+5j)]"
      ]
     },
     "execution_count": 76,
     "metadata": {},
     "output_type": "execute_result"
    }
   ],
   "source": [
    "l1"
   ]
  },
  {
   "cell_type": "code",
   "execution_count": 77,
   "id": "7a58bc28",
   "metadata": {},
   "outputs": [],
   "source": [
    "p=[1,3,6,4,3,6,7,89,67]"
   ]
  },
  {
   "cell_type": "code",
   "execution_count": 78,
   "id": "4be4bf80",
   "metadata": {},
   "outputs": [],
   "source": [
    "p.sort()"
   ]
  },
  {
   "cell_type": "code",
   "execution_count": 79,
   "id": "92ac4501",
   "metadata": {},
   "outputs": [
    {
     "data": {
      "text/plain": [
       "[1, 3, 3, 4, 6, 6, 7, 67, 89]"
      ]
     },
     "execution_count": 79,
     "metadata": {},
     "output_type": "execute_result"
    }
   ],
   "source": [
    "p"
   ]
  },
  {
   "cell_type": "code",
   "execution_count": 80,
   "id": "d66e5437",
   "metadata": {},
   "outputs": [],
   "source": [
    "l4=[\"name\",\"pintu\",\"kumar\",\"gupta\"]"
   ]
  },
  {
   "cell_type": "code",
   "execution_count": 81,
   "id": "4aa8baa3",
   "metadata": {},
   "outputs": [],
   "source": [
    "l4.sort()"
   ]
  },
  {
   "cell_type": "code",
   "execution_count": 82,
   "id": "0e90c8bb",
   "metadata": {},
   "outputs": [
    {
     "data": {
      "text/plain": [
       "['gupta', 'kumar', 'name', 'pintu']"
      ]
     },
     "execution_count": 82,
     "metadata": {},
     "output_type": "execute_result"
    }
   ],
   "source": [
    "l4"
   ]
  },
  {
   "cell_type": "code",
   "execution_count": 83,
   "id": "b44dee6f",
   "metadata": {},
   "outputs": [
    {
     "data": {
      "text/plain": [
       "3"
      ]
     },
     "execution_count": 83,
     "metadata": {},
     "output_type": "execute_result"
    }
   ],
   "source": [
    "l4.index(\"pintu\")"
   ]
  },
  {
   "cell_type": "code",
   "execution_count": 84,
   "id": "13159863",
   "metadata": {},
   "outputs": [
    {
     "data": {
      "text/plain": [
       "1"
      ]
     },
     "execution_count": 84,
     "metadata": {},
     "output_type": "execute_result"
    }
   ],
   "source": [
    "l4.count(\"pintu\")"
   ]
  },
  {
   "cell_type": "code",
   "execution_count": 85,
   "id": "b588f017",
   "metadata": {},
   "outputs": [
    {
     "data": {
      "text/plain": [
       "['gupta', 'kumar', 'name', 'pintu']"
      ]
     },
     "execution_count": 85,
     "metadata": {},
     "output_type": "execute_result"
    }
   ],
   "source": [
    "l4"
   ]
  },
  {
   "cell_type": "code",
   "execution_count": 86,
   "id": "c84361db",
   "metadata": {},
   "outputs": [],
   "source": [
    "s1={}"
   ]
  },
  {
   "cell_type": "code",
   "execution_count": 87,
   "id": "0cdb3168",
   "metadata": {},
   "outputs": [
    {
     "data": {
      "text/plain": [
       "dict"
      ]
     },
     "execution_count": 87,
     "metadata": {},
     "output_type": "execute_result"
    }
   ],
   "source": [
    "type(s1)"
   ]
  },
  {
   "cell_type": "code",
   "execution_count": 88,
   "id": "4e2a3b52",
   "metadata": {},
   "outputs": [],
   "source": [
    "s2={1,2,4,5,5,67,9}"
   ]
  },
  {
   "cell_type": "code",
   "execution_count": 89,
   "id": "76a45cd1",
   "metadata": {},
   "outputs": [
    {
     "data": {
      "text/plain": [
       "set"
      ]
     },
     "execution_count": 89,
     "metadata": {},
     "output_type": "execute_result"
    }
   ],
   "source": [
    "type(s2)"
   ]
  },
  {
   "cell_type": "code",
   "execution_count": 90,
   "id": "b8105129",
   "metadata": {},
   "outputs": [],
   "source": [
    "s3={2,3,4,45,67,\"pintu\",\"pwskills\",\"false\",(45+67j),(3,4,5,5)}"
   ]
  },
  {
   "cell_type": "code",
   "execution_count": 91,
   "id": "9e0dfeef",
   "metadata": {},
   "outputs": [
    {
     "data": {
      "text/plain": [
       "{(3, 4, 5, 5), (45+67j), 2, 3, 4, 45, 67, 'false', 'pintu', 'pwskills'}"
      ]
     },
     "execution_count": 91,
     "metadata": {},
     "output_type": "execute_result"
    }
   ],
   "source": [
    "s3"
   ]
  },
  {
   "cell_type": "code",
   "execution_count": 92,
   "id": "36e0bde0",
   "metadata": {},
   "outputs": [
    {
     "data": {
      "text/plain": [
       "[2, 67, 3, 4, 'pwskills', 'false', 45, (3, 4, 5, 5), (45+67j), 'pintu']"
      ]
     },
     "execution_count": 92,
     "metadata": {},
     "output_type": "execute_result"
    }
   ],
   "source": [
    "list(s3)"
   ]
  },
  {
   "cell_type": "code",
   "execution_count": 93,
   "id": "ac8329b0",
   "metadata": {},
   "outputs": [
    {
     "data": {
      "text/plain": [
       "{(3, 4, 5, 5), (45+67j), 2, 3, 4, 45, 67, 'false', 'pintu', 'pwskills'}"
      ]
     },
     "execution_count": 93,
     "metadata": {},
     "output_type": "execute_result"
    }
   ],
   "source": [
    "s3"
   ]
  },
  {
   "cell_type": "code",
   "execution_count": 94,
   "id": "af0d18e1",
   "metadata": {},
   "outputs": [],
   "source": [
    "s3.add(\"gupta\")"
   ]
  },
  {
   "cell_type": "code",
   "execution_count": 95,
   "id": "0184268b",
   "metadata": {},
   "outputs": [
    {
     "data": {
      "text/plain": [
       "{(3, 4, 5, 5),\n",
       " (45+67j),\n",
       " 2,\n",
       " 3,\n",
       " 4,\n",
       " 45,\n",
       " 67,\n",
       " 'false',\n",
       " 'gupta',\n",
       " 'pintu',\n",
       " 'pwskills'}"
      ]
     },
     "execution_count": 95,
     "metadata": {},
     "output_type": "execute_result"
    }
   ],
   "source": [
    "s3"
   ]
  },
  {
   "cell_type": "code",
   "execution_count": 96,
   "id": "88c2e4e9",
   "metadata": {},
   "outputs": [],
   "source": [
    "d={}"
   ]
  },
  {
   "cell_type": "code",
   "execution_count": 97,
   "id": "ba40c88c",
   "metadata": {},
   "outputs": [
    {
     "data": {
      "text/plain": [
       "dict"
      ]
     },
     "execution_count": 97,
     "metadata": {},
     "output_type": "execute_result"
    }
   ],
   "source": [
    "type(d)"
   ]
  },
  {
   "cell_type": "code",
   "execution_count": 98,
   "id": "817c5375",
   "metadata": {},
   "outputs": [],
   "source": [
    "d1= {'key', \"pintu\"}"
   ]
  },
  {
   "cell_type": "code",
   "execution_count": 99,
   "id": "97da5f7f",
   "metadata": {},
   "outputs": [
    {
     "data": {
      "text/plain": [
       "{'key', 'pintu'}"
      ]
     },
     "execution_count": 99,
     "metadata": {},
     "output_type": "execute_result"
    }
   ],
   "source": [
    "d1"
   ]
  },
  {
   "cell_type": "code",
   "execution_count": 100,
   "id": "d980dfa7",
   "metadata": {},
   "outputs": [],
   "source": [
    "d2={\"name\":\"pintu\",\"age\":23,\"email\":\"pintukumarsah781@gmail.com\",\"mobile\":8946038454}"
   ]
  },
  {
   "cell_type": "code",
   "execution_count": 101,
   "id": "5fce0e58",
   "metadata": {},
   "outputs": [
    {
     "data": {
      "text/plain": [
       "{'name': 'pintu',\n",
       " 'age': 23,\n",
       " 'email': 'pintukumarsah781@gmail.com',\n",
       " 'mobile': 8946038454}"
      ]
     },
     "execution_count": 101,
     "metadata": {},
     "output_type": "execute_result"
    }
   ],
   "source": [
    "d2"
   ]
  },
  {
   "cell_type": "code",
   "execution_count": 102,
   "id": "16043663",
   "metadata": {},
   "outputs": [
    {
     "data": {
      "text/plain": [
       "'pintu'"
      ]
     },
     "execution_count": 102,
     "metadata": {},
     "output_type": "execute_result"
    }
   ],
   "source": [
    "d2[\"name\"]"
   ]
  },
  {
   "cell_type": "code",
   "execution_count": 103,
   "id": "a31c89f2",
   "metadata": {},
   "outputs": [],
   "source": [
    "d2=[\"mobile\"]"
   ]
  },
  {
   "cell_type": "code",
   "execution_count": 104,
   "id": "53fedf1f",
   "metadata": {},
   "outputs": [],
   "source": [
    "d5={\"company\":\"pwskills\",\"course\":[\"web dev\", \"data science\" , \"java with Dsa system design\"]}"
   ]
  },
  {
   "cell_type": "code",
   "execution_count": 105,
   "id": "dc808640",
   "metadata": {},
   "outputs": [
    {
     "data": {
      "text/plain": [
       "{'company': 'pwskills',\n",
       " 'course': ['web dev', 'data science', 'java with Dsa system design']}"
      ]
     },
     "execution_count": 105,
     "metadata": {},
     "output_type": "execute_result"
    }
   ],
   "source": [
    "d5"
   ]
  },
  {
   "cell_type": "code",
   "execution_count": 106,
   "id": "40acbfb9",
   "metadata": {},
   "outputs": [
    {
     "data": {
      "text/plain": [
       "'pwskills'"
      ]
     },
     "execution_count": 106,
     "metadata": {},
     "output_type": "execute_result"
    }
   ],
   "source": [
    "d5[\"company\"]"
   ]
  },
  {
   "cell_type": "code",
   "execution_count": 107,
   "id": "5a490be9",
   "metadata": {},
   "outputs": [
    {
     "data": {
      "text/plain": [
       "['web dev', 'data science', 'java with Dsa system design']"
      ]
     },
     "execution_count": 107,
     "metadata": {},
     "output_type": "execute_result"
    }
   ],
   "source": [
    "d5[\"course\"]"
   ]
  },
  {
   "cell_type": "code",
   "execution_count": 108,
   "id": "49be113f",
   "metadata": {},
   "outputs": [
    {
     "data": {
      "text/plain": [
       "'java with Dsa system design'"
      ]
     },
     "execution_count": 108,
     "metadata": {},
     "output_type": "execute_result"
    }
   ],
   "source": [
    "d5[\"course\"] [2]"
   ]
  },
  {
   "cell_type": "code",
   "execution_count": 109,
   "id": "5b6fac34",
   "metadata": {},
   "outputs": [],
   "source": [
    "d6= {\"number\" :[2,34,3,34,34] ,\"assingment\":(1,2,3,4,5,6) , \"launch_date\":{8,12,14} , \"class_time\":{\"ws_dev\": 8 , \"Data science masters \": 8, \"java with dsa and system desing\":7}}"
   ]
  },
  {
   "cell_type": "code",
   "execution_count": 110,
   "id": "438d3421",
   "metadata": {},
   "outputs": [
    {
     "data": {
      "text/plain": [
       "{'number': [2, 34, 3, 34, 34],\n",
       " 'assingment': (1, 2, 3, 4, 5, 6),\n",
       " 'launch_date': {8, 12, 14},\n",
       " 'class_time': {'ws_dev': 8,\n",
       "  'Data science masters ': 8,\n",
       "  'java with dsa and system desing': 7}}"
      ]
     },
     "execution_count": 110,
     "metadata": {},
     "output_type": "execute_result"
    }
   ],
   "source": [
    "d6"
   ]
  },
  {
   "cell_type": "code",
   "execution_count": 111,
   "id": "87e31cbc",
   "metadata": {},
   "outputs": [
    {
     "data": {
      "text/plain": [
       "{8, 12, 14}"
      ]
     },
     "execution_count": 111,
     "metadata": {},
     "output_type": "execute_result"
    }
   ],
   "source": [
    "d6['launch_date']"
   ]
  },
  {
   "cell_type": "code",
   "execution_count": 112,
   "id": "a6347f98",
   "metadata": {},
   "outputs": [
    {
     "data": {
      "text/plain": [
       "{'number': [2, 34, 3, 34, 34],\n",
       " 'assingment': (1, 2, 3, 4, 5, 6),\n",
       " 'launch_date': {8, 12, 14},\n",
       " 'class_time': {'ws_dev': 8,\n",
       "  'Data science masters ': 8,\n",
       "  'java with dsa and system desing': 7}}"
      ]
     },
     "execution_count": 112,
     "metadata": {},
     "output_type": "execute_result"
    }
   ],
   "source": [
    "d6"
   ]
  },
  {
   "cell_type": "code",
   "execution_count": 113,
   "id": "08567650",
   "metadata": {},
   "outputs": [
    {
     "data": {
      "text/plain": [
       "{'ws_dev': 8, 'Data science masters ': 8, 'java with dsa and system desing': 7}"
      ]
     },
     "execution_count": 113,
     "metadata": {},
     "output_type": "execute_result"
    }
   ],
   "source": [
    "d6['class_time']"
   ]
  },
  {
   "cell_type": "code",
   "execution_count": 114,
   "id": "95b49d60",
   "metadata": {},
   "outputs": [
    {
     "data": {
      "text/plain": [
       "[[2, 34, 3, 34, 34],\n",
       " (1, 2, 3, 4, 5, 6),\n",
       " {8, 12, 14},\n",
       " {'ws_dev': 8,\n",
       "  'Data science masters ': 8,\n",
       "  'java with dsa and system desing': 7}]"
      ]
     },
     "execution_count": 114,
     "metadata": {},
     "output_type": "execute_result"
    }
   ],
   "source": [
    "list(d6.values())"
   ]
  },
  {
   "cell_type": "code",
   "execution_count": 115,
   "id": "f7ffc9c9",
   "metadata": {},
   "outputs": [
    {
     "data": {
      "text/plain": [
       "dict_items([('number', [2, 34, 3, 34, 34]), ('assingment', (1, 2, 3, 4, 5, 6)), ('launch_date', {8, 12, 14}), ('class_time', {'ws_dev': 8, 'Data science masters ': 8, 'java with dsa and system desing': 7})])"
      ]
     },
     "execution_count": 115,
     "metadata": {},
     "output_type": "execute_result"
    }
   ],
   "source": [
    "d6.items()"
   ]
  },
  {
   "cell_type": "code",
   "execution_count": 116,
   "id": "7edc9dd5",
   "metadata": {},
   "outputs": [
    {
     "name": "stdout",
     "output_type": "stream",
     "text": [
      "enter the your marks : 75\n",
      "you will be a part of A1 batch\n"
     ]
    }
   ],
   "source": [
    "marks=int(input(\"enter the your marks : \"))\n",
    "if marks >80:\n",
    "    print(\"you will  be a part of A0 batch\")\n",
    "elif marks >=60 and marks <80: \n",
    "    print(\"you will be a part of A1 batch\")\n",
    "elif marks >=40 and marks <60:\n",
    "    print(\"yuo will be a part of A2 batch\")\n",
    "elif marks >=40:\n",
    "    print(\"you will be a part of A3 batch\")\n",
    "else:\n",
    "    print(\"you willl be a part of A4 batch\")"
   ]
  },
  {
   "cell_type": "code",
   "execution_count": 117,
   "id": "ced523ab",
   "metadata": {},
   "outputs": [
    {
     "data": {
      "text/plain": [
       "75"
      ]
     },
     "execution_count": 117,
     "metadata": {},
     "output_type": "execute_result"
    }
   ],
   "source": [
    "marks"
   ]
  },
  {
   "cell_type": "code",
   "execution_count": 118,
   "id": "18c61ebe",
   "metadata": {},
   "outputs": [
    {
     "data": {
      "text/plain": [
       "int"
      ]
     },
     "execution_count": 118,
     "metadata": {},
     "output_type": "execute_result"
    }
   ],
   "source": [
    "type(marks)"
   ]
  },
  {
   "cell_type": "code",
   "execution_count": 119,
   "id": "c9afa97d",
   "metadata": {},
   "outputs": [
    {
     "name": "stdout",
     "output_type": "stream",
     "text": [
      "Enter the price:500\n",
      "I will perchase\n"
     ]
    }
   ],
   "source": [
    "price = int(input(\"Enter the price:\"))\n",
    "if price > 1000:\n",
    "    print(\"I will not perchase\")\n",
    "else:\n",
    "    print(\"I will perchase\")\n"
   ]
  },
  {
   "cell_type": "code",
   "execution_count": 120,
   "id": "e7725264",
   "metadata": {},
   "outputs": [
    {
     "data": {
      "text/plain": [
       "500"
      ]
     },
     "execution_count": 120,
     "metadata": {},
     "output_type": "execute_result"
    }
   ],
   "source": [
    "price"
   ]
  },
  {
   "cell_type": "code",
   "execution_count": 121,
   "id": "6f7f9d86",
   "metadata": {},
   "outputs": [
    {
     "data": {
      "text/plain": [
       "int"
      ]
     },
     "execution_count": 121,
     "metadata": {},
     "output_type": "execute_result"
    }
   ],
   "source": [
    "type(price)"
   ]
  },
  {
   "cell_type": "code",
   "execution_count": 122,
   "id": "6413f6af",
   "metadata": {},
   "outputs": [],
   "source": [
    "l = [1,2,3,4,5,6,7,8,9,10]"
   ]
  },
  {
   "cell_type": "code",
   "execution_count": 123,
   "id": "f001ad6d",
   "metadata": {},
   "outputs": [
    {
     "data": {
      "text/plain": [
       "3"
      ]
     },
     "execution_count": 123,
     "metadata": {},
     "output_type": "execute_result"
    }
   ],
   "source": [
    "l[0]+2"
   ]
  },
  {
   "cell_type": "code",
   "execution_count": 124,
   "id": "f5db9af2",
   "metadata": {},
   "outputs": [],
   "source": [
    "l1 = []"
   ]
  },
  {
   "cell_type": "code",
   "execution_count": 125,
   "id": "b1df450c",
   "metadata": {},
   "outputs": [],
   "source": [
    "l1.append(l[0]+1)"
   ]
  },
  {
   "cell_type": "code",
   "execution_count": 126,
   "id": "70f7ab8c",
   "metadata": {},
   "outputs": [
    {
     "data": {
      "text/plain": [
       "[2]"
      ]
     },
     "execution_count": 126,
     "metadata": {},
     "output_type": "execute_result"
    }
   ],
   "source": [
    "l1"
   ]
  },
  {
   "cell_type": "code",
   "execution_count": 127,
   "id": "39eb8fbe",
   "metadata": {},
   "outputs": [
    {
     "data": {
      "text/plain": [
       "[2]"
      ]
     },
     "execution_count": 127,
     "metadata": {},
     "output_type": "execute_result"
    }
   ],
   "source": [
    "l1"
   ]
  },
  {
   "cell_type": "code",
   "execution_count": 128,
   "id": "28a06554",
   "metadata": {},
   "outputs": [
    {
     "data": {
      "text/plain": [
       "[1, 2, 3, 4, 5, 6, 7, 8, 9, 10]"
      ]
     },
     "execution_count": 128,
     "metadata": {},
     "output_type": "execute_result"
    }
   ],
   "source": [
    "l"
   ]
  },
  {
   "cell_type": "code",
   "execution_count": 129,
   "id": "f4df39e5",
   "metadata": {},
   "outputs": [
    {
     "name": "stdout",
     "output_type": "stream",
     "text": [
      "2\n",
      "3\n",
      "4\n",
      "5\n",
      "6\n",
      "7\n",
      "8\n",
      "9\n",
      "10\n",
      "11\n"
     ]
    }
   ],
   "source": [
    "l1 = []\n",
    "for i in l :\n",
    "    print(i+1)\n",
    "    l1.append(i+1)"
   ]
  },
  {
   "cell_type": "code",
   "execution_count": 130,
   "id": "90699920",
   "metadata": {},
   "outputs": [
    {
     "name": "stdout",
     "output_type": "stream",
     "text": [
      "2\n",
      "3\n",
      "4\n",
      "5\n",
      "6\n",
      "7\n",
      "8\n",
      "9\n",
      "10\n",
      "11\n"
     ]
    },
    {
     "data": {
      "text/plain": [
       "[1, 2, 3, 4, 5, 6, 7, 8, 9, 10]"
      ]
     },
     "execution_count": 130,
     "metadata": {},
     "output_type": "execute_result"
    }
   ],
   "source": [
    "l1 = []\n",
    "for i in l :\n",
    "    print(i+1)\n",
    "    l1.append(i+1)\n",
    "l"
   ]
  },
  {
   "cell_type": "code",
   "execution_count": 131,
   "id": "aa5b74bc",
   "metadata": {},
   "outputs": [],
   "source": [
    "l = [\"Pintu\", \"Alok\", \"Jyotish\", \"pwskills\", \"course\"]"
   ]
  },
  {
   "cell_type": "code",
   "execution_count": 132,
   "id": "0b51f715",
   "metadata": {},
   "outputs": [
    {
     "name": "stdout",
     "output_type": "stream",
     "text": [
      "Pintu\n",
      "Alok\n",
      "Jyotish\n",
      "pwskills\n",
      "course\n"
     ]
    }
   ],
   "source": [
    "l1=[]\n",
    "for i in l:\n",
    "    print(i)\n",
    "    l1.append(i.upper())"
   ]
  },
  {
   "cell_type": "code",
   "execution_count": 133,
   "id": "34db5a5d",
   "metadata": {},
   "outputs": [
    {
     "name": "stdout",
     "output_type": "stream",
     "text": [
      "Pintu\n",
      "Alok\n",
      "Jyotish\n",
      "pwskills\n",
      "course\n"
     ]
    }
   ],
   "source": [
    "l1=[]\n",
    "for i in l:\n",
    "    print(i)\n",
    "    l1.append(i.lower())"
   ]
  },
  {
   "cell_type": "code",
   "execution_count": 134,
   "id": "53714fc6",
   "metadata": {},
   "outputs": [
    {
     "name": "stdout",
     "output_type": "stream",
     "text": [
      "Pintu\n",
      "Alok\n",
      "Jyotish\n",
      "pwskills\n",
      "course\n"
     ]
    }
   ],
   "source": [
    "l1 = []\n",
    "for i in l:\n",
    "    print(i)\n",
    "    l1.append(i.lower())"
   ]
  },
  {
   "cell_type": "markdown",
   "id": "a8b47f01",
   "metadata": {},
   "source": [
    "For loop"
   ]
  },
  {
   "cell_type": "code",
   "execution_count": 137,
   "id": "367ec37e",
   "metadata": {},
   "outputs": [],
   "source": [
    "l = [1,2,3,4,5,6,7,8 ,9,10]"
   ]
  },
  {
   "cell_type": "code",
   "execution_count": 141,
   "id": "bae38051",
   "metadata": {},
   "outputs": [
    {
     "name": "stdout",
     "output_type": "stream",
     "text": [
      "1 <class 'int'>\n",
      "2 <class 'int'>\n",
      "3 <class 'int'>\n",
      "4 <class 'int'>\n",
      "5 <class 'int'>\n",
      "6 <class 'int'>\n",
      "7 <class 'int'>\n",
      "8 <class 'int'>\n",
      "9 <class 'int'>\n",
      "10 <class 'int'>\n"
     ]
    }
   ],
   "source": [
    "for i in l:\n",
    "    print(i,type(i))"
   ]
  },
  {
   "cell_type": "code",
   "execution_count": 142,
   "id": "d5b09669",
   "metadata": {},
   "outputs": [],
   "source": [
    "l1= [\"Pintu\",\"Alok\",\"Jyotish\", \"pwskills\",\"course\"]"
   ]
  },
  {
   "cell_type": "code",
   "execution_count": 147,
   "id": "f713dbb6",
   "metadata": {},
   "outputs": [
    {
     "name": "stdout",
     "output_type": "stream",
     "text": [
      "Pintu <class 'str'>\n",
      "Alok <class 'str'>\n",
      "Jyotish <class 'str'>\n",
      "pwskills <class 'str'>\n",
      "course <class 'str'>\n"
     ]
    }
   ],
   "source": [
    "for i in l1:\n",
    "    print(i,type(i))"
   ]
  },
  {
   "cell_type": "code",
   "execution_count": 148,
   "id": "661f5818",
   "metadata": {},
   "outputs": [],
   "source": [
    "l2= [1,2,3,4,\"gupta\",\"pwskills\",\"datascience\",23.4,]"
   ]
  },
  {
   "cell_type": "code",
   "execution_count": 149,
   "id": "323279db",
   "metadata": {},
   "outputs": [
    {
     "name": "stdout",
     "output_type": "stream",
     "text": [
      "1 <class 'int'>\n",
      "2 <class 'int'>\n",
      "3 <class 'int'>\n",
      "4 <class 'int'>\n",
      "gupta <class 'str'>\n",
      "pwskills <class 'str'>\n",
      "datascience <class 'str'>\n",
      "23.4 <class 'float'>\n"
     ]
    }
   ],
   "source": [
    "for i in l2:\n",
    "    print(i,(type(i)))"
   ]
  },
  {
   "cell_type": "code",
   "execution_count": 150,
   "id": "eb50c648",
   "metadata": {},
   "outputs": [
    {
     "data": {
      "text/plain": [
       "['Pintu', 'Alok', 'Jyotish', 'pwskills', 'course']"
      ]
     },
     "execution_count": 150,
     "metadata": {},
     "output_type": "execute_result"
    }
   ],
   "source": [
    "l1"
   ]
  },
  {
   "cell_type": "code",
   "execution_count": 152,
   "id": "d724f584",
   "metadata": {},
   "outputs": [
    {
     "name": "stdout",
     "output_type": "stream",
     "text": [
      "Pintu\n",
      "Alok\n",
      "Jyotish\n",
      "pwskills\n",
      "course\n",
      "do something\n"
     ]
    }
   ],
   "source": [
    "for i in l1:\n",
    "    print(i)\n",
    "else:\n",
    "    print(\"do something\")"
   ]
  },
  {
   "cell_type": "code",
   "execution_count": 154,
   "id": "344d47f6",
   "metadata": {},
   "outputs": [
    {
     "data": {
      "text/plain": [
       "['Pintu', 'Alok', 'Jyotish', 'pwskills', 'course']"
      ]
     },
     "execution_count": 154,
     "metadata": {},
     "output_type": "execute_result"
    }
   ],
   "source": [
    "l1"
   ]
  },
  {
   "cell_type": "code",
   "execution_count": 157,
   "id": "e9db67c2",
   "metadata": {},
   "outputs": [
    {
     "name": "stdout",
     "output_type": "stream",
     "text": [
      "Pintu\n",
      "Alok\n",
      "Jyotish\n"
     ]
    }
   ],
   "source": [
    "for i in l1:\n",
    "    if i == \"pwskills\":\n",
    "        break\n",
    "    print(i)"
   ]
  },
  {
   "cell_type": "code",
   "execution_count": null,
   "id": "205fc4b4",
   "metadata": {},
   "outputs": [],
   "source": []
  }
 ],
 "metadata": {
  "kernelspec": {
   "display_name": "Python 3 (ipykernel)",
   "language": "python",
   "name": "python3"
  },
  "language_info": {
   "codemirror_mode": {
    "name": "ipython",
    "version": 3
   },
   "file_extension": ".py",
   "mimetype": "text/x-python",
   "name": "python",
   "nbconvert_exporter": "python",
   "pygments_lexer": "ipython3",
   "version": "3.11.5"
  }
 },
 "nbformat": 4,
 "nbformat_minor": 5
}
