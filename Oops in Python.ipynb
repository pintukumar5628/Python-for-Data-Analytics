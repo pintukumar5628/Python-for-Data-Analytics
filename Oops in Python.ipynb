{
 "cells": [
  {
   "cell_type": "markdown",
   "id": "58cf677b",
   "metadata": {},
   "source": [
    "# Oops in Python"
   ]
  },
  {
   "cell_type": "markdown",
   "id": "192ea4bf",
   "metadata": {},
   "source": [
    "Q1. What is Abstraction in OOps? Explain with an example."
   ]
  },
  {
   "cell_type": "markdown",
   "id": "cf9804f0",
   "metadata": {},
   "source": [
    "Ans:Abstraction is one of the fundamental principles of Object-Oriented Programming (OOP) that focuses on hiding complex implementation details and showing only the necessary features of an object. It allows you to create a simplified representation of an object by exposing only the essential attributes and behaviors, while keeping the internal mechanisms hidden."
   ]
  },
  {
   "cell_type": "code",
   "execution_count": 5,
   "id": "fa8f7aab",
   "metadata": {},
   "outputs": [
    {
     "name": "stdout",
     "output_type": "stream",
     "text": [
      "Shape: Circle 1, Area: 78.5\n",
      "Shape: Rectangle 1, Area: 24\n"
     ]
    }
   ],
   "source": [
    "\n",
    "from abc import ABC, abstractmethod\n",
    "\n",
    "class Shape(ABC):\n",
    "    def __init__(self, name):\n",
    "        self.name = name\n",
    "\n",
    "    @abstractmethod\n",
    "    def area(self):\n",
    "        pass\n",
    "\n",
    "class Circle(Shape):\n",
    "    def __init__(self, name, radius):\n",
    "        super().__init__(name)\n",
    "        self.radius = radius\n",
    "\n",
    "    def area(self):\n",
    "        return 3.14 * self.radius * self.radius\n",
    "\n",
    "class Rectangle(Shape):\n",
    "    def __init__(self, name, width, height):\n",
    "        super().__init__(name)\n",
    "        self.width = width\n",
    "        self.height = height\n",
    "\n",
    "    def area(self):\n",
    "        return self.width * self.height\n",
    "\n",
    "circle = Circle(\"Circle 1\", 5)\n",
    "rectangle = Rectangle(\"Rectangle 1\", 4, 6)\n",
    "\n",
    "shapes = [circle, rectangle]\n",
    "\n",
    "for shape in shapes:\n",
    "    print(f\"Shape: {shape.name}, Area: {shape.area()}\")\n",
    "\n"
   ]
  },
  {
   "cell_type": "markdown",
   "id": "2767980e",
   "metadata": {},
   "source": [
    "Q2. Q2.Differentiate between Abstraction and Encapsulation. Explain with an example."
   ]
  },
  {
   "cell_type": "markdown",
   "id": "bd9875e6",
   "metadata": {},
   "source": [
    "Ans:-Abstraction:\n",
    "Abstraction focuses on hiding unnecessary details while exposing only the relevant features of an object. It's about creating a simplified representation of an object's behavior and characteristics. Abstraction is achieved by defining abstract classes and interfaces with abstract methods that must be implemented by concrete subclasses. The goal is to create a clear separation between the high-level functionality and the implementation details.\n",
    "\n",
    "Encapsulation:\n",
    "Encapsulation is the practice of bundling the data (attributes) and methods (functions) that operate on the data into a single unit called a class. It restricts direct access to the internal data of an object and enforces access through methods, providing control over how data is modified and accessed. Encapsulation helps in data hiding and prevents unintended interference or modification of the object's state.\n",
    "\n",
    "Here's an example to illustrate the difference between abstraction and encapsulation:"
   ]
  },
  {
   "cell_type": "code",
   "execution_count": 6,
   "id": "d2d7a479",
   "metadata": {},
   "outputs": [
    {
     "name": "stdout",
     "output_type": "stream",
     "text": [
      "Toyota car started\n",
      "Honda bike started\n",
      "Balance: 1200\n"
     ]
    }
   ],
   "source": [
    "# Abstraction Example\n",
    "from abc import ABC, abstractmethod\n",
    "\n",
    "class Vehicle(ABC):\n",
    "    def __init__(self, name):\n",
    "        self.name = name\n",
    "\n",
    "    @abstractmethod\n",
    "    def start(self):\n",
    "        pass\n",
    "\n",
    "class Car(Vehicle):\n",
    "    def start(self):\n",
    "        print(f\"{self.name} car started\")\n",
    "\n",
    "class Bike(Vehicle):\n",
    "    def start(self):\n",
    "        print(f\"{self.name} bike started\")\n",
    "\n",
    "# Encapsulation Example\n",
    "class BankAccount:\n",
    "    def __init__(self, account_number, balance):\n",
    "        self.__account_number = account_number\n",
    "        self.__balance = balance\n",
    "\n",
    "    def deposit(self, amount):\n",
    "        if amount > 0:\n",
    "            self.__balance += amount\n",
    "\n",
    "    def withdraw(self, amount):\n",
    "        if 0 < amount <= self.__balance:\n",
    "            self.__balance -= amount\n",
    "\n",
    "    def get_balance(self):\n",
    "        return self.__balance\n",
    "\n",
    "# Abstraction usage\n",
    "car = Car(\"Toyota\")\n",
    "bike = Bike(\"Honda\")\n",
    "\n",
    "car.start()  # Output: Toyota car started\n",
    "bike.start()  # Output: Honda bike started\n",
    "\n",
    "# Encapsulation usage\n",
    "account = BankAccount(\"123456\", 1000)\n",
    "account.deposit(500)\n",
    "account.withdraw(300)\n",
    "print(\"Balance:\", account.get_balance())  # Output: Balance: 1200\n"
   ]
  },
  {
   "cell_type": "markdown",
   "id": "5bbcf993",
   "metadata": {},
   "source": [
    "Q3. What is abc module in python? Why is it used?"
   ]
  },
  {
   "cell_type": "markdown",
   "id": "febd01da",
   "metadata": {},
   "source": [
    "Ans:-The abc module in Python stands for \"Abstract Base Classes.\" It provides a way to work with abstract classes and interfaces, which are classes that cannot be instantiated directly and serve as blueprints for other classes to inherit from. Abstract base classes are used to define a common structure and a set of required methods that subclasses must implement.\n",
    "\n",
    "The primary purpose of the abc module is to facilitate abstraction and to enforce a certain level of structure in class hierarchies. It allows you to define abstract methods in abstract base classes, which must be implemented by the concrete subclasses. This helps in creating consistent and well-defined APIs across different subclasses.\n",
    "\n",
    "Key features and concepts of the abc module:\n",
    "\n",
    "Abstract Base Class (ABC): An abstract base class is created by inheriting from the ABC class provided by the abc module. It cannot be instantiated, and it defines the structure and interface that its subclasses must adhere to.\n",
    "\n",
    "Abstract Method: An abstract method is a method declared in an abstract base class without providing an implementation. Subclasses must implement these methods to provide their own functionality.\n",
    "\n",
    "@abstractmethod Decorator: The @abstractmethod decorator is used to mark a method as abstract. Any class that inherits from an abstract base class containing abstract methods must provide concrete implementations for these methods.\n",
    "\n",
    "Here's a simple example demonstrating the use of the abc module:"
   ]
  },
  {
   "cell_type": "code",
   "execution_count": 7,
   "id": "33edc110",
   "metadata": {},
   "outputs": [
    {
     "name": "stdout",
     "output_type": "stream",
     "text": [
      "Area: 78.5\n",
      "Area: 24\n"
     ]
    }
   ],
   "source": [
    "from abc import ABC, abstractmethod\n",
    "\n",
    "class Shape(ABC):\n",
    "    @abstractmethod\n",
    "    def area(self):\n",
    "        pass\n",
    "\n",
    "class Circle(Shape):\n",
    "    def __init__(self, radius):\n",
    "        self.radius = radius\n",
    "\n",
    "    def area(self):\n",
    "        return 3.14 * self.radius * self.radius\n",
    "\n",
    "class Rectangle(Shape):\n",
    "    def __init__(self, width, height):\n",
    "        self.width = width\n",
    "        self.height = height\n",
    "\n",
    "    def area(self):\n",
    "        return self.width * self.height\n",
    "\n",
    "circle = Circle(5)\n",
    "rectangle = Rectangle(4, 6)\n",
    "\n",
    "shapes = [circle, rectangle]\n",
    "\n",
    "for shape in shapes:\n",
    "    print(\"Area:\", shape.area())\n"
   ]
  },
  {
   "cell_type": "markdown",
   "id": "61adaba7",
   "metadata": {},
   "source": [
    "Q4. How can we achieve data abstraction?"
   ]
  },
  {
   "cell_type": "markdown",
   "id": "b60dcd87",
   "metadata": {},
   "source": [
    "Ans:-Define a Class: Create a class that will represent the abstract data type you want to create. This class will serve as a blueprint for objects that will hold the data and methods.\n",
    "\n",
    "Private Data Members: Use private data members (usually with names that start with a double underscore __) to encapsulate the data within the class. Private data members cannot be accessed directly from outside the class.\n",
    "\n",
    "Public Methods: Create public methods within the class that allow users to interact with the data. These methods should provide a controlled interface for accessing and modifying the data.\n",
    "\n",
    "Getter and Setter Methods: Provide getter methods to retrieve the values of private data members, and setter methods to modify them. This allows you to control how data is accessed and modified, ensuring data integrity."
   ]
  },
  {
   "cell_type": "markdown",
   "id": "af37f784",
   "metadata": {},
   "source": [
    "Q5. Can we create an instance of an abstract class? Explain your answer."
   ]
  },
  {
   "cell_type": "markdown",
   "id": "cb2a56e5",
   "metadata": {},
   "source": [
    "Ans:-Q5. Can we create an instance of an abstract class? Explain your answer."
   ]
  },
  {
   "cell_type": "code",
   "execution_count": 8,
   "id": "de214fb0",
   "metadata": {},
   "outputs": [
    {
     "ename": "TypeError",
     "evalue": "Can't instantiate abstract class MyAbstractClass with abstract method my_method",
     "output_type": "error",
     "traceback": [
      "\u001b[1;31m---------------------------------------------------------------------------\u001b[0m",
      "\u001b[1;31mTypeError\u001b[0m                                 Traceback (most recent call last)",
      "Input \u001b[1;32mIn [8]\u001b[0m, in \u001b[0;36m<cell line: 9>\u001b[1;34m()\u001b[0m\n\u001b[0;32m      6\u001b[0m         \u001b[38;5;28;01mpass\u001b[39;00m\n\u001b[0;32m      8\u001b[0m \u001b[38;5;66;03m# Trying to create an instance of an abstract class\u001b[39;00m\n\u001b[1;32m----> 9\u001b[0m instance \u001b[38;5;241m=\u001b[39m \u001b[43mMyAbstractClass\u001b[49m\u001b[43m(\u001b[49m\u001b[43m)\u001b[49m\n",
      "\u001b[1;31mTypeError\u001b[0m: Can't instantiate abstract class MyAbstractClass with abstract method my_method"
     ]
    }
   ],
   "source": [
    "from abc import ABC, abstractmethod\n",
    "\n",
    "class MyAbstractClass(ABC):\n",
    "    @abstractmethod\n",
    "    def my_method(self):\n",
    "        pass\n",
    "\n",
    "# Trying to create an instance of an abstract class\n",
    "instance = MyAbstractClass()  # This will raise a TypeError\n"
   ]
  },
  {
   "cell_type": "code",
   "execution_count": null,
   "id": "a14e1cd1",
   "metadata": {},
   "outputs": [],
   "source": []
  }
 ],
 "metadata": {
  "kernelspec": {
   "display_name": "Python 3 (ipykernel)",
   "language": "python",
   "name": "python3"
  },
  "language_info": {
   "codemirror_mode": {
    "name": "ipython",
    "version": 3
   },
   "file_extension": ".py",
   "mimetype": "text/x-python",
   "name": "python",
   "nbconvert_exporter": "python",
   "pygments_lexer": "ipython3",
   "version": "3.9.12"
  }
 },
 "nbformat": 4,
 "nbformat_minor": 5
}
